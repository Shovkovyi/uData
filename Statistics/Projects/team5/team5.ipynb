{
 "cells": [
  {
   "cell_type": "code",
   "execution_count": 4,
   "metadata": {},
   "outputs": [],
   "source": [
    "import pandas as pd\n",
    "import numpy as np\n",
    "from scipy.stats.stats import pearsonr\n",
    "from matplotlib.pyplot import boxplot as вусата_коробочка\n",
    "import statsmodels.formula.api as sm\n",
    "from sklearn.cluster import KMeans\n",
    "import matplotlib.pyplot as plt"
   ]
  },
  {
   "cell_type": "code",
   "execution_count": 5,
   "metadata": {},
   "outputs": [],
   "source": [
    "data = pd.read_excel('team5.xlsx',sheet_name=4,usecols = [3,4,5],skiprows = range(42,245) )"
   ]
  },
  {
   "cell_type": "markdown",
   "metadata": {},
   "source": [
    "### Побудова вибіркових характеристик"
   ]
  },
  {
   "cell_type": "code",
   "execution_count": 6,
   "metadata": {},
   "outputs": [],
   "source": [
    "def вибіркові_характеристики(data):\n",
    "    середнє = data.mean()\n",
    "    дисперсія = data.std()\n",
    "    медіана = data.median()\n",
    "    перший_квартиль = np.percentile(data,25)\n",
    "    третій_квартиль = np.percentile(data,75)\n",
    "    інтерквартильний_розмах = третій_квартиль - перший_квартиль\n",
    "    result = pd.DataFrame([середнє, дисперсія,медіана,перший_квартиль,третій_квартиль,інтерквартильний_розмах],\n",
    "                         index = ['середнє', 'дисперсія','медіана','перший_квартиль','третій_квартиль','інтерквартильний_розмах'],\n",
    "                         columns = ['значення'])\n",
    "    return result\n",
    "коефіцієнт_кореляції_Пірсона = pearsonr(data['IncidenceASR'],data['Mortality'])# коефіцієнт, p-value"
   ]
  },
  {
   "cell_type": "code",
   "execution_count": 7,
   "metadata": {},
   "outputs": [
    {
     "name": "stdout",
     "output_type": "stream",
     "text": [
      "захворювання\n"
     ]
    },
    {
     "data": {
      "text/html": [
       "<div>\n",
       "<style scoped>\n",
       "    .dataframe tbody tr th:only-of-type {\n",
       "        vertical-align: middle;\n",
       "    }\n",
       "\n",
       "    .dataframe tbody tr th {\n",
       "        vertical-align: top;\n",
       "    }\n",
       "\n",
       "    .dataframe thead th {\n",
       "        text-align: right;\n",
       "    }\n",
       "</style>\n",
       "<table border=\"1\" class=\"dataframe\">\n",
       "  <thead>\n",
       "    <tr style=\"text-align: right;\">\n",
       "      <th></th>\n",
       "      <th>значення</th>\n",
       "    </tr>\n",
       "  </thead>\n",
       "  <tbody>\n",
       "    <tr>\n",
       "      <th>середнє</th>\n",
       "      <td>295.430000</td>\n",
       "    </tr>\n",
       "    <tr>\n",
       "      <th>дисперсія</th>\n",
       "      <td>49.827509</td>\n",
       "    </tr>\n",
       "    <tr>\n",
       "      <th>медіана</th>\n",
       "      <td>302.900000</td>\n",
       "    </tr>\n",
       "    <tr>\n",
       "      <th>перший_квартиль</th>\n",
       "      <td>267.150000</td>\n",
       "    </tr>\n",
       "    <tr>\n",
       "      <th>третій_квартиль</th>\n",
       "      <td>330.325000</td>\n",
       "    </tr>\n",
       "    <tr>\n",
       "      <th>інтерквартильний_розмах</th>\n",
       "      <td>63.175000</td>\n",
       "    </tr>\n",
       "  </tbody>\n",
       "</table>\n",
       "</div>"
      ],
      "text/plain": [
       "                           значення\n",
       "середнє                  295.430000\n",
       "дисперсія                 49.827509\n",
       "медіана                  302.900000\n",
       "перший_квартиль          267.150000\n",
       "третій_квартиль          330.325000\n",
       "інтерквартильний_розмах   63.175000"
      ]
     },
     "execution_count": 7,
     "metadata": {},
     "output_type": "execute_result"
    }
   ],
   "source": [
    "print(\"захворювання\")\n",
    "вибіркові_характеристики(data['IncidenceASR'])"
   ]
  },
  {
   "cell_type": "code",
   "execution_count": 8,
   "metadata": {},
   "outputs": [
    {
     "name": "stdout",
     "output_type": "stream",
     "text": [
      "смертність\n"
     ]
    },
    {
     "data": {
      "text/html": [
       "<div>\n",
       "<style scoped>\n",
       "    .dataframe tbody tr th:only-of-type {\n",
       "        vertical-align: middle;\n",
       "    }\n",
       "\n",
       "    .dataframe tbody tr th {\n",
       "        vertical-align: top;\n",
       "    }\n",
       "\n",
       "    .dataframe thead th {\n",
       "        text-align: right;\n",
       "    }\n",
       "</style>\n",
       "<table border=\"1\" class=\"dataframe\">\n",
       "  <thead>\n",
       "    <tr style=\"text-align: right;\">\n",
       "      <th></th>\n",
       "      <th>значення</th>\n",
       "    </tr>\n",
       "  </thead>\n",
       "  <tbody>\n",
       "    <tr>\n",
       "      <th>середнє</th>\n",
       "      <td>148.072500</td>\n",
       "    </tr>\n",
       "    <tr>\n",
       "      <th>дисперсія</th>\n",
       "      <td>30.875283</td>\n",
       "    </tr>\n",
       "    <tr>\n",
       "      <th>медіана</th>\n",
       "      <td>143.050000</td>\n",
       "    </tr>\n",
       "    <tr>\n",
       "      <th>перший_квартиль</th>\n",
       "      <td>124.875000</td>\n",
       "    </tr>\n",
       "    <tr>\n",
       "      <th>третій_квартиль</th>\n",
       "      <td>175.475000</td>\n",
       "    </tr>\n",
       "    <tr>\n",
       "      <th>інтерквартильний_розмах</th>\n",
       "      <td>50.600000</td>\n",
       "    </tr>\n",
       "  </tbody>\n",
       "</table>\n",
       "</div>"
      ],
      "text/plain": [
       "                           значення\n",
       "середнє                  148.072500\n",
       "дисперсія                 30.875283\n",
       "медіана                  143.050000\n",
       "перший_квартиль          124.875000\n",
       "третій_квартиль          175.475000\n",
       "інтерквартильний_розмах   50.600000"
      ]
     },
     "execution_count": 8,
     "metadata": {},
     "output_type": "execute_result"
    }
   ],
   "source": [
    "print(\"смертність\")\n",
    "вибіркові_характеристики(data['Mortality'])"
   ]
  },
  {
   "cell_type": "code",
   "execution_count": 9,
   "metadata": {},
   "outputs": [
    {
     "name": "stdout",
     "output_type": "stream",
     "text": [
      "коефіцієнт кореляції Пірсона = 0.10503079593380228, p-значення = 0.5189292906085169\n"
     ]
    }
   ],
   "source": [
    "коефіцієнт_кореляції_Пірсона=  pearsonr(data['IncidenceASR'],data['Mortality'])\n",
    "print('коефіцієнт кореляції Пірсона = %s, p-значення = %s'%(коефіцієнт_кореляції_Пірсона[0],коефіцієнт_кореляції_Пірсона[1]))"
   ]
  },
  {
   "cell_type": "code",
   "execution_count": 10,
   "metadata": {},
   "outputs": [
    {
     "data": {
      "text/plain": [
       "{'whiskers': [<matplotlib.lines.Line2D at 0x1d6c595f3c8>,\n",
       "  <matplotlib.lines.Line2D at 0x1d6c595f860>],\n",
       " 'caps': [<matplotlib.lines.Line2D at 0x1d6c595fc88>,\n",
       "  <matplotlib.lines.Line2D at 0x1d6c596f0f0>],\n",
       " 'boxes': [<matplotlib.lines.Line2D at 0x1d6c595f278>],\n",
       " 'medians': [<matplotlib.lines.Line2D at 0x1d6c596f518>],\n",
       " 'fliers': [<matplotlib.lines.Line2D at 0x1d6c596f940>],\n",
       " 'means': []}"
      ]
     },
     "execution_count": 10,
     "metadata": {},
     "output_type": "execute_result"
    },
    {
     "data": {
      "image/png": "[encoded data removed]",
      "text/plain": [
       "<Figure size 432x288 with 1 Axes>"
      ]
     },
     "metadata": {},
     "output_type": "display_data"
    }
   ],
   "source": [
    "вусата_коробочка(data['IncidenceASR'])"
   ]
  },
  {
   "cell_type": "code",
   "execution_count": 11,
   "metadata": {},
   "outputs": [
    {
     "data": {
      "text/plain": [
       "{'whiskers': [<matplotlib.lines.Line2D at 0x1d6c59e4e48>,\n",
       "  <matplotlib.lines.Line2D at 0x1d6c59ed320>],\n",
       " 'caps': [<matplotlib.lines.Line2D at 0x1d6c59ed748>,\n",
       "  <matplotlib.lines.Line2D at 0x1d6c59edb70>],\n",
       " 'boxes': [<matplotlib.lines.Line2D at 0x1d6c59e4cf8>],\n",
       " 'medians': [<matplotlib.lines.Line2D at 0x1d6c59edf98>],\n",
       " 'fliers': [<matplotlib.lines.Line2D at 0x1d6c59f6400>],\n",
       " 'means': []}"
      ]
     },
     "execution_count": 11,
     "metadata": {},
     "output_type": "execute_result"
    },
    {
     "data": {
      "image/png": "[encoded data removed]",
      "text/plain": [
       "<Figure size 432x288 with 1 Axes>"
      ]
     },
     "metadata": {},
     "output_type": "display_data"
    }
   ],
   "source": [
    "вусата_коробочка(data['Mortality'])"
   ]
  },
  {
   "cell_type": "markdown",
   "metadata": {},
   "source": [
    "### Оцінка параметрів лінійної регресії"
   ]
  },
  {
   "cell_type": "code",
   "execution_count": 12,
   "metadata": {},
   "outputs": [],
   "source": [
    "z = sm.ols(formula = 'y~x1',data = pd.DataFrame({'y':data['IncidenceASR'],'x1':data['Mortality']}))"
   ]
  },
  {
   "cell_type": "code",
   "execution_count": 13,
   "metadata": {},
   "outputs": [
    {
     "data": {
      "text/html": [
       "<table class=\"simpletable\">\n",
       "<caption>OLS Regression Results</caption>\n",
       "<tr>\n",
       "  <th>Dep. Variable:</th>            <td>y</td>        <th>  R-squared:         </th> <td>   0.011</td>\n",
       "</tr>\n",
       "<tr>\n",
       "  <th>Model:</th>                   <td>OLS</td>       <th>  Adj. R-squared:    </th> <td>  -0.015</td>\n",
       "</tr>\n",
       "<tr>\n",
       "  <th>Method:</th>             <td>Least Squares</td>  <th>  F-statistic:       </th> <td>  0.4239</td>\n",
       "</tr>\n",
       "<tr>\n",
       "  <th>Date:</th>             <td>Fri, 29 Jun 2018</td> <th>  Prob (F-statistic):</th>  <td> 0.519</td> \n",
       "</tr>\n",
       "<tr>\n",
       "  <th>Time:</th>                 <td>16:40:49</td>     <th>  Log-Likelihood:    </th> <td> -212.37</td>\n",
       "</tr>\n",
       "<tr>\n",
       "  <th>No. Observations:</th>      <td>    40</td>      <th>  AIC:               </th> <td>   428.7</td>\n",
       "</tr>\n",
       "<tr>\n",
       "  <th>Df Residuals:</th>          <td>    38</td>      <th>  BIC:               </th> <td>   432.1</td>\n",
       "</tr>\n",
       "<tr>\n",
       "  <th>Df Model:</th>              <td>     1</td>      <th>                     </th>     <td> </td>   \n",
       "</tr>\n",
       "<tr>\n",
       "  <th>Covariance Type:</th>      <td>nonrobust</td>    <th>                     </th>     <td> </td>   \n",
       "</tr>\n",
       "</table>\n",
       "<table class=\"simpletable\">\n",
       "<tr>\n",
       "      <td></td>         <th>coef</th>     <th>std err</th>      <th>t</th>      <th>P>|t|</th>  <th>[0.025</th>    <th>0.975]</th>  \n",
       "</tr>\n",
       "<tr>\n",
       "  <th>Intercept</th> <td>  270.3314</td> <td>   39.359</td> <td>    6.868</td> <td> 0.000</td> <td>  190.653</td> <td>  350.010</td>\n",
       "</tr>\n",
       "<tr>\n",
       "  <th>x1</th>        <td>    0.1695</td> <td>    0.260</td> <td>    0.651</td> <td> 0.519</td> <td>   -0.358</td> <td>    0.697</td>\n",
       "</tr>\n",
       "</table>\n",
       "<table class=\"simpletable\">\n",
       "<tr>\n",
       "  <th>Omnibus:</th>       <td> 2.737</td> <th>  Durbin-Watson:     </th> <td>   2.164</td>\n",
       "</tr>\n",
       "<tr>\n",
       "  <th>Prob(Omnibus):</th> <td> 0.255</td> <th>  Jarque-Bera (JB):  </th> <td>   2.548</td>\n",
       "</tr>\n",
       "<tr>\n",
       "  <th>Skew:</th>          <td>-0.581</td> <th>  Prob(JB):          </th> <td>   0.280</td>\n",
       "</tr>\n",
       "<tr>\n",
       "  <th>Kurtosis:</th>      <td> 2.578</td> <th>  Cond. No.          </th> <td>    750.</td>\n",
       "</tr>\n",
       "</table><br/><br/>Warnings:<br/>[1] Standard Errors assume that the covariance matrix of the errors is correctly specified."
      ],
      "text/plain": [
       "<class 'statsmodels.iolib.summary.Summary'>\n",
       "\"\"\"\n",
       "                            OLS Regression Results                            \n",
       "==============================================================================\n",
       "Dep. Variable:                      y   R-squared:                       0.011\n",
       "Model:                            OLS   Adj. R-squared:                 -0.015\n",
       "Method:                 Least Squares   F-statistic:                    0.4239\n",
       "Date:                Fri, 29 Jun 2018   Prob (F-statistic):              0.519\n",
       "Time:                        16:40:49   Log-Likelihood:                -212.37\n",
       "No. Observations:                  40   AIC:                             428.7\n",
       "Df Residuals:                      38   BIC:                             432.1\n",
       "Df Model:                           1                                         \n",
       "Covariance Type:            nonrobust                                         \n",
       "==============================================================================\n",
       "                 coef    std err          t      P>|t|      [0.025      0.975]\n",
       "------------------------------------------------------------------------------\n",
       "Intercept    270.3314     39.359      6.868      0.000     190.653     350.010\n",
       "x1             0.1695      0.260      0.651      0.519      -0.358       0.697\n",
       "==============================================================================\n",
       "Omnibus:                        2.737   Durbin-Watson:                   2.164\n",
       "Prob(Omnibus):                  0.255   Jarque-Bera (JB):                2.548\n",
       "Skew:                          -0.581   Prob(JB):                        0.280\n",
       "Kurtosis:                       2.578   Cond. No.                         750.\n",
       "==============================================================================\n",
       "\n",
       "Warnings:\n",
       "[1] Standard Errors assume that the covariance matrix of the errors is correctly specified.\n",
       "\"\"\""
      ]
     },
     "execution_count": 13,
     "metadata": {},
     "output_type": "execute_result"
    }
   ],
   "source": [
    "z.fit().summary()"
   ]
  },
  {
   "cell_type": "code",
   "execution_count": 14,
   "metadata": {
    "scrolled": true
   },
   "outputs": [
    {
     "data": {
      "text/html": [
       "<div>\n",
       "<style scoped>\n",
       "    .dataframe tbody tr th:only-of-type {\n",
       "        vertical-align: middle;\n",
       "    }\n",
       "\n",
       "    .dataframe tbody tr th {\n",
       "        vertical-align: top;\n",
       "    }\n",
       "\n",
       "    .dataframe thead th {\n",
       "        text-align: right;\n",
       "    }\n",
       "</style>\n",
       "<table border=\"1\" class=\"dataframe\">\n",
       "  <thead>\n",
       "    <tr style=\"text-align: right;\">\n",
       "      <th></th>\n",
       "      <th>IncidenceASR</th>\n",
       "      <th>Mortality</th>\n",
       "    </tr>\n",
       "  </thead>\n",
       "  <tbody>\n",
       "    <tr>\n",
       "      <th>0</th>\n",
       "      <td>185.0</td>\n",
       "      <td>130.9</td>\n",
       "    </tr>\n",
       "    <tr>\n",
       "      <th>1</th>\n",
       "      <td>295.2</td>\n",
       "      <td>129.4</td>\n",
       "    </tr>\n",
       "    <tr>\n",
       "      <th>2</th>\n",
       "      <td>275.5</td>\n",
       "      <td>186.0</td>\n",
       "    </tr>\n",
       "    <tr>\n",
       "      <th>3</th>\n",
       "      <td>364.8</td>\n",
       "      <td>151.0</td>\n",
       "    </tr>\n",
       "    <tr>\n",
       "      <th>4</th>\n",
       "      <td>180.0</td>\n",
       "      <td>125.4</td>\n",
       "    </tr>\n",
       "    <tr>\n",
       "      <th>5</th>\n",
       "      <td>260.5</td>\n",
       "      <td>160.5</td>\n",
       "    </tr>\n",
       "    <tr>\n",
       "      <th>6</th>\n",
       "      <td>319.9</td>\n",
       "      <td>190.7</td>\n",
       "    </tr>\n",
       "    <tr>\n",
       "      <th>7</th>\n",
       "      <td>218.2</td>\n",
       "      <td>96.4</td>\n",
       "    </tr>\n",
       "    <tr>\n",
       "      <th>8</th>\n",
       "      <td>345.9</td>\n",
       "      <td>158.1</td>\n",
       "    </tr>\n",
       "    <tr>\n",
       "      <th>9</th>\n",
       "      <td>354.3</td>\n",
       "      <td>142.7</td>\n",
       "    </tr>\n",
       "    <tr>\n",
       "      <th>10</th>\n",
       "      <td>321.9</td>\n",
       "      <td>183.2</td>\n",
       "    </tr>\n",
       "    <tr>\n",
       "      <th>11</th>\n",
       "      <td>290.1</td>\n",
       "      <td>104.9</td>\n",
       "    </tr>\n",
       "    <tr>\n",
       "      <th>12</th>\n",
       "      <td>356.0</td>\n",
       "      <td>143.4</td>\n",
       "    </tr>\n",
       "    <tr>\n",
       "      <th>13</th>\n",
       "      <td>265.5</td>\n",
       "      <td>183.9</td>\n",
       "    </tr>\n",
       "    <tr>\n",
       "      <th>14</th>\n",
       "      <td>323.7</td>\n",
       "      <td>122.1</td>\n",
       "    </tr>\n",
       "    <tr>\n",
       "      <th>15</th>\n",
       "      <td>194.8</td>\n",
       "      <td>132.2</td>\n",
       "    </tr>\n",
       "    <tr>\n",
       "      <th>16</th>\n",
       "      <td>356.1</td>\n",
       "      <td>208.2</td>\n",
       "    </tr>\n",
       "    <tr>\n",
       "      <th>17</th>\n",
       "      <td>299.5</td>\n",
       "      <td>99.3</td>\n",
       "    </tr>\n",
       "    <tr>\n",
       "      <th>18</th>\n",
       "      <td>343.3</td>\n",
       "      <td>123.3</td>\n",
       "    </tr>\n",
       "    <tr>\n",
       "      <th>19</th>\n",
       "      <td>312.9</td>\n",
       "      <td>128.6</td>\n",
       "    </tr>\n",
       "    <tr>\n",
       "      <th>20</th>\n",
       "      <td>325.0</td>\n",
       "      <td>185.0</td>\n",
       "    </tr>\n",
       "    <tr>\n",
       "      <th>21</th>\n",
       "      <td>311.8</td>\n",
       "      <td>194.9</td>\n",
       "    </tr>\n",
       "    <tr>\n",
       "      <th>22</th>\n",
       "      <td>309.1</td>\n",
       "      <td>117.2</td>\n",
       "    </tr>\n",
       "    <tr>\n",
       "      <th>23</th>\n",
       "      <td>267.7</td>\n",
       "      <td>109.0</td>\n",
       "    </tr>\n",
       "    <tr>\n",
       "      <th>24</th>\n",
       "      <td>262.7</td>\n",
       "      <td>174.8</td>\n",
       "    </tr>\n",
       "    <tr>\n",
       "      <th>25</th>\n",
       "      <td>368.7</td>\n",
       "      <td>114.3</td>\n",
       "    </tr>\n",
       "    <tr>\n",
       "      <th>26</th>\n",
       "      <td>269.2</td>\n",
       "      <td>176.0</td>\n",
       "    </tr>\n",
       "    <tr>\n",
       "      <th>27</th>\n",
       "      <td>306.3</td>\n",
       "      <td>134.7</td>\n",
       "    </tr>\n",
       "    <tr>\n",
       "      <th>28</th>\n",
       "      <td>230.0</td>\n",
       "      <td>163.6</td>\n",
       "    </tr>\n",
       "    <tr>\n",
       "      <th>29</th>\n",
       "      <td>271.0</td>\n",
       "      <td>175.3</td>\n",
       "    </tr>\n",
       "    <tr>\n",
       "      <th>30</th>\n",
       "      <td>245.8</td>\n",
       "      <td>176.3</td>\n",
       "    </tr>\n",
       "    <tr>\n",
       "      <th>31</th>\n",
       "      <td>299.2</td>\n",
       "      <td>186.7</td>\n",
       "    </tr>\n",
       "    <tr>\n",
       "      <th>32</th>\n",
       "      <td>338.2</td>\n",
       "      <td>173.4</td>\n",
       "    </tr>\n",
       "    <tr>\n",
       "      <th>33</th>\n",
       "      <td>358.2</td>\n",
       "      <td>167.7</td>\n",
       "    </tr>\n",
       "    <tr>\n",
       "      <th>34</th>\n",
       "      <td>312.8</td>\n",
       "      <td>136.1</td>\n",
       "    </tr>\n",
       "    <tr>\n",
       "      <th>35</th>\n",
       "      <td>296.8</td>\n",
       "      <td>101.7</td>\n",
       "    </tr>\n",
       "    <tr>\n",
       "      <th>36</th>\n",
       "      <td>337.9</td>\n",
       "      <td>112.6</td>\n",
       "    </tr>\n",
       "    <tr>\n",
       "      <th>37</th>\n",
       "      <td>327.8</td>\n",
       "      <td>136.5</td>\n",
       "    </tr>\n",
       "    <tr>\n",
       "      <th>38</th>\n",
       "      <td>231.9</td>\n",
       "      <td>160.9</td>\n",
       "    </tr>\n",
       "    <tr>\n",
       "      <th>39</th>\n",
       "      <td>284.0</td>\n",
       "      <td>126.0</td>\n",
       "    </tr>\n",
       "  </tbody>\n",
       "</table>\n",
       "</div>"
      ],
      "text/plain": [
       "    IncidenceASR  Mortality\n",
       "0          185.0      130.9\n",
       "1          295.2      129.4\n",
       "2          275.5      186.0\n",
       "3          364.8      151.0\n",
       "4          180.0      125.4\n",
       "5          260.5      160.5\n",
       "6          319.9      190.7\n",
       "7          218.2       96.4\n",
       "8          345.9      158.1\n",
       "9          354.3      142.7\n",
       "10         321.9      183.2\n",
       "11         290.1      104.9\n",
       "12         356.0      143.4\n",
       "13         265.5      183.9\n",
       "14         323.7      122.1\n",
       "15         194.8      132.2\n",
       "16         356.1      208.2\n",
       "17         299.5       99.3\n",
       "18         343.3      123.3\n",
       "19         312.9      128.6\n",
       "20         325.0      185.0\n",
       "21         311.8      194.9\n",
       "22         309.1      117.2\n",
       "23         267.7      109.0\n",
       "24         262.7      174.8\n",
       "25         368.7      114.3\n",
       "26         269.2      176.0\n",
       "27         306.3      134.7\n",
       "28         230.0      163.6\n",
       "29         271.0      175.3\n",
       "30         245.8      176.3\n",
       "31         299.2      186.7\n",
       "32         338.2      173.4\n",
       "33         358.2      167.7\n",
       "34         312.8      136.1\n",
       "35         296.8      101.7\n",
       "36         337.9      112.6\n",
       "37         327.8      136.5\n",
       "38         231.9      160.9\n",
       "39         284.0      126.0"
      ]
     },
     "execution_count": 14,
     "metadata": {},
     "output_type": "execute_result"
    }
   ],
   "source": [
    "data"
   ]
  },
  {
   "cell_type": "code",
   "execution_count": 15,
   "metadata": {},
   "outputs": [],
   "source": [
    "a = []\n",
    "for i in range(40):\n",
    "    a.append(data['IncidenceASR'][i])\n",
    "    a.append(data['Mortality'][i])\n",
    "a.sort()"
   ]
  },
  {
   "cell_type": "code",
   "execution_count": 16,
   "metadata": {},
   "outputs": [
    {
     "data": {
      "text/plain": [
       "2364.5"
      ]
     },
     "execution_count": 16,
     "metadata": {},
     "output_type": "execute_result"
    }
   ],
   "source": [
    "ранг = []\n",
    "СумаРанговX = 0\n",
    "for i in range(len(data['IncidenceASR'])):\n",
    "    for j in range(len(a)):\n",
    "        if data['IncidenceASR'][i] == a[j]:\n",
    "            ранг.append(j)\n",
    "    СумаРанговX += sum(ранг)/(len(ранг))\n",
    "    ранг = []\n",
    "СумаРанговX    "
   ]
  },
  {
   "cell_type": "code",
   "execution_count": 17,
   "metadata": {},
   "outputs": [
    {
     "data": {
      "text/plain": [
       "795.5"
      ]
     },
     "execution_count": 17,
     "metadata": {},
     "output_type": "execute_result"
    }
   ],
   "source": [
    "ранг = []\n",
    "СумаРанговY = 0\n",
    "for i in range(len(data['Mortality'])):\n",
    "    for j in range(len(a)):\n",
    "        if data['Mortality'][i] == a[j]:\n",
    "            ранг.append(j)\n",
    "    СумаРанговY += sum(ранг)/(len(ранг))\n",
    "    ранг = []\n",
    "СумаРанговY  "
   ]
  },
  {
   "cell_type": "code",
   "execution_count": 18,
   "metadata": {},
   "outputs": [
    {
     "ename": "TypeError",
     "evalue": "len() takes exactly one argument (0 given)",
     "output_type": "error",
     "traceback": [
      "\u001b[1;31m---------------------------------------------------------------------------\u001b[0m",
      "\u001b[1;31mTypeError\u001b[0m                                 Traceback (most recent call last)",
      "\u001b[1;32m<ipython-input-18-b3f1003d00c8>\u001b[0m in \u001b[0;36m<module>\u001b[1;34m()\u001b[0m\n\u001b[1;32m----> 1\u001b[1;33m \u001b[0mnmax\u001b[0m \u001b[1;33m=\u001b[0m \u001b[0mmax\u001b[0m\u001b[1;33m(\u001b[0m\u001b[0mlen\u001b[0m\u001b[1;33m(\u001b[0m\u001b[1;33m)\u001b[0m\u001b[1;33m,\u001b[0m\u001b[0mlen\u001b[0m\u001b[1;33m(\u001b[0m\u001b[0mdata\u001b[0m\u001b[1;33m[\u001b[0m\u001b[1;34m'IncidenceASR'\u001b[0m\u001b[1;33m]\u001b[0m\u001b[1;33m)\u001b[0m\u001b[1;33m)\u001b[0m\u001b[1;33m\u001b[0m\u001b[0m\n\u001b[0m\u001b[0;32m      2\u001b[0m \u001b[0mUemp\u001b[0m \u001b[1;33m=\u001b[0m \u001b[0mlen\u001b[0m\u001b[1;33m(\u001b[0m\u001b[0mdata\u001b[0m\u001b[1;33m[\u001b[0m\u001b[1;34m'Mortality'\u001b[0m\u001b[1;33m]\u001b[0m\u001b[1;33m)\u001b[0m\u001b[1;33m*\u001b[0m\u001b[0mlen\u001b[0m\u001b[1;33m(\u001b[0m\u001b[0mdata\u001b[0m\u001b[1;33m[\u001b[0m\u001b[1;34m'IncidenceASR'\u001b[0m\u001b[1;33m]\u001b[0m\u001b[1;33m)\u001b[0m \u001b[1;33m+\u001b[0m \u001b[1;33m(\u001b[0m\u001b[0mnmax\u001b[0m\u001b[1;33m*\u001b[0m\u001b[1;33m(\u001b[0m\u001b[0mnmax\u001b[0m\u001b[1;33m+\u001b[0m\u001b[1;36m1\u001b[0m\u001b[1;33m)\u001b[0m\u001b[1;33m)\u001b[0m\u001b[1;33m/\u001b[0m\u001b[1;36m2\u001b[0m \u001b[1;33m-\u001b[0m \u001b[0mmax\u001b[0m\u001b[1;33m(\u001b[0m\u001b[0mСумаРанговX\u001b[0m\u001b[1;33m,\u001b[0m \u001b[0mСумаРанговY\u001b[0m\u001b[1;33m)\u001b[0m\u001b[1;33m\u001b[0m\u001b[0m\n\u001b[0;32m      3\u001b[0m \u001b[0mUemp\u001b[0m\u001b[1;33m\u001b[0m\u001b[0m\n",
      "\u001b[1;31mTypeError\u001b[0m: len() takes exactly one argument (0 given)"
     ]
    }
   ],
   "source": [
    "nmax = max(len(),len(data['IncidenceASR']))\n",
    "Uemp = len(data['Mortality'])*len(data['IncidenceASR']) + (nmax*(nmax+1))/2 - max(СумаРанговX, СумаРанговY)\n",
    "Uemp"
   ]
  },
  {
   "cell_type": "code",
   "execution_count": 19,
   "metadata": {},
   "outputs": [],
   "source": [
    "Ukr = 557"
   ]
  },
  {
   "cell_type": "code",
   "execution_count": 20,
   "metadata": {},
   "outputs": [],
   "source": [
    "#различия в уровнях выборок можно считать существенными"
   ]
  },
  {
   "cell_type": "code",
   "execution_count": 21,
   "metadata": {},
   "outputs": [],
   "source": [
    "AA = [[data['IncidenceASR'][i],data['Mortality'][i]] for i in range(len(data['Mortality']))]\n",
    "km = KMeans(n_clusters=2).fit( AA)"
   ]
  },
  {
   "cell_type": "code",
   "execution_count": 22,
   "metadata": {},
   "outputs": [],
   "source": [
    "clusters = np.array(km.fit_predict(AA))"
   ]
  },
  {
   "cell_type": "code",
   "execution_count": 23,
   "metadata": {},
   "outputs": [],
   "source": [
    "clust1 = [AA[i] for i in range(len(AA)) if clusters[i] == 1]\n",
    "clust2 = [AA[i] for i in range(len(AA)) if clusters[i] == 0]"
   ]
  },
  {
   "cell_type": "code",
   "execution_count": 24,
   "metadata": {},
   "outputs": [],
   "source": [
    "z1 = sm.ols(formula = 'y~x1',data = pd.DataFrame({'y':[clust1[i][1] for i in range(len(clust1))],'x1':[clust1[i][0] for i in range(len(clust1))]}))"
   ]
  },
  {
   "cell_type": "code",
   "execution_count": 25,
   "metadata": {},
   "outputs": [
    {
     "name": "stderr",
     "output_type": "stream",
     "text": [
      "c:\\programdata\\miniconda3\\lib\\site-packages\\scipy\\stats\\stats.py:1394: UserWarning: kurtosistest only valid for n>=20 ... continuing anyway, n=14\n",
      "  \"anyway, n=%i\" % int(n))\n"
     ]
    },
    {
     "data": {
      "text/html": [
       "<table class=\"simpletable\">\n",
       "<caption>OLS Regression Results</caption>\n",
       "<tr>\n",
       "  <th>Dep. Variable:</th>            <td>y</td>        <th>  R-squared:         </th> <td>   0.367</td>\n",
       "</tr>\n",
       "<tr>\n",
       "  <th>Model:</th>                   <td>OLS</td>       <th>  Adj. R-squared:    </th> <td>   0.314</td>\n",
       "</tr>\n",
       "<tr>\n",
       "  <th>Method:</th>             <td>Least Squares</td>  <th>  F-statistic:       </th> <td>   6.944</td>\n",
       "</tr>\n",
       "<tr>\n",
       "  <th>Date:</th>             <td>Fri, 29 Jun 2018</td> <th>  Prob (F-statistic):</th>  <td>0.0218</td> \n",
       "</tr>\n",
       "<tr>\n",
       "  <th>Time:</th>                 <td>16:40:54</td>     <th>  Log-Likelihood:    </th> <td> -63.421</td>\n",
       "</tr>\n",
       "<tr>\n",
       "  <th>No. Observations:</th>      <td>    14</td>      <th>  AIC:               </th> <td>   130.8</td>\n",
       "</tr>\n",
       "<tr>\n",
       "  <th>Df Residuals:</th>          <td>    12</td>      <th>  BIC:               </th> <td>   132.1</td>\n",
       "</tr>\n",
       "<tr>\n",
       "  <th>Df Model:</th>              <td>     1</td>      <th>                     </th>     <td> </td>   \n",
       "</tr>\n",
       "<tr>\n",
       "  <th>Covariance Type:</th>      <td>nonrobust</td>    <th>                     </th>     <td> </td>   \n",
       "</tr>\n",
       "</table>\n",
       "<table class=\"simpletable\">\n",
       "<tr>\n",
       "      <td></td>         <th>coef</th>     <th>std err</th>      <th>t</th>      <th>P>|t|</th>  <th>[0.025</th>    <th>0.975]</th>  \n",
       "</tr>\n",
       "<tr>\n",
       "  <th>Intercept</th> <td>   27.5693</td> <td>   48.285</td> <td>    0.571</td> <td> 0.579</td> <td>  -77.636</td> <td>  132.774</td>\n",
       "</tr>\n",
       "<tr>\n",
       "  <th>x1</th>        <td>    0.5257</td> <td>    0.200</td> <td>    2.635</td> <td> 0.022</td> <td>    0.091</td> <td>    0.960</td>\n",
       "</tr>\n",
       "</table>\n",
       "<table class=\"simpletable\">\n",
       "<tr>\n",
       "  <th>Omnibus:</th>       <td>13.731</td> <th>  Durbin-Watson:     </th> <td>   2.128</td>\n",
       "</tr>\n",
       "<tr>\n",
       "  <th>Prob(Omnibus):</th> <td> 0.001</td> <th>  Jarque-Bera (JB):  </th> <td>   9.448</td>\n",
       "</tr>\n",
       "<tr>\n",
       "  <th>Skew:</th>          <td>-1.794</td> <th>  Prob(JB):          </th> <td> 0.00888</td>\n",
       "</tr>\n",
       "<tr>\n",
       "  <th>Kurtosis:</th>      <td> 4.822</td> <th>  Cond. No.          </th> <td>1.80e+03</td>\n",
       "</tr>\n",
       "</table><br/><br/>Warnings:<br/>[1] Standard Errors assume that the covariance matrix of the errors is correctly specified.<br/>[2] The condition number is large, 1.8e+03. This might indicate that there are<br/>strong multicollinearity or other numerical problems."
      ],
      "text/plain": [
       "<class 'statsmodels.iolib.summary.Summary'>\n",
       "\"\"\"\n",
       "                            OLS Regression Results                            \n",
       "==============================================================================\n",
       "Dep. Variable:                      y   R-squared:                       0.367\n",
       "Model:                            OLS   Adj. R-squared:                  0.314\n",
       "Method:                 Least Squares   F-statistic:                     6.944\n",
       "Date:                Fri, 29 Jun 2018   Prob (F-statistic):             0.0218\n",
       "Time:                        16:40:54   Log-Likelihood:                -63.421\n",
       "No. Observations:                  14   AIC:                             130.8\n",
       "Df Residuals:                      12   BIC:                             132.1\n",
       "Df Model:                           1                                         \n",
       "Covariance Type:            nonrobust                                         \n",
       "==============================================================================\n",
       "                 coef    std err          t      P>|t|      [0.025      0.975]\n",
       "------------------------------------------------------------------------------\n",
       "Intercept     27.5693     48.285      0.571      0.579     -77.636     132.774\n",
       "x1             0.5257      0.200      2.635      0.022       0.091       0.960\n",
       "==============================================================================\n",
       "Omnibus:                       13.731   Durbin-Watson:                   2.128\n",
       "Prob(Omnibus):                  0.001   Jarque-Bera (JB):                9.448\n",
       "Skew:                          -1.794   Prob(JB):                      0.00888\n",
       "Kurtosis:                       4.822   Cond. No.                     1.80e+03\n",
       "==============================================================================\n",
       "\n",
       "Warnings:\n",
       "[1] Standard Errors assume that the covariance matrix of the errors is correctly specified.\n",
       "[2] The condition number is large, 1.8e+03. This might indicate that there are\n",
       "strong multicollinearity or other numerical problems.\n",
       "\"\"\""
      ]
     },
     "execution_count": 25,
     "metadata": {},
     "output_type": "execute_result"
    }
   ],
   "source": [
    "z1.fit().summary()"
   ]
  },
  {
   "cell_type": "code",
   "execution_count": 26,
   "metadata": {},
   "outputs": [],
   "source": [
    "z2 =  sm.ols(formula = 'y~x1',data = pd.DataFrame({'y':[clust2[i][1] for i in range(len(clust2))],'x1':[clust2[i][0] for i in range(len(clust2))]}))"
   ]
  },
  {
   "cell_type": "code",
   "execution_count": 27,
   "metadata": {},
   "outputs": [
    {
     "data": {
      "text/html": [
       "<table class=\"simpletable\">\n",
       "<caption>OLS Regression Results</caption>\n",
       "<tr>\n",
       "  <th>Dep. Variable:</th>            <td>y</td>        <th>  R-squared:         </th> <td>   0.069</td>\n",
       "</tr>\n",
       "<tr>\n",
       "  <th>Model:</th>                   <td>OLS</td>       <th>  Adj. R-squared:    </th> <td>   0.031</td>\n",
       "</tr>\n",
       "<tr>\n",
       "  <th>Method:</th>             <td>Least Squares</td>  <th>  F-statistic:       </th> <td>   1.789</td>\n",
       "</tr>\n",
       "<tr>\n",
       "  <th>Date:</th>             <td>Fri, 29 Jun 2018</td> <th>  Prob (F-statistic):</th>  <td> 0.194</td> \n",
       "</tr>\n",
       "<tr>\n",
       "  <th>Time:</th>                 <td>16:40:56</td>     <th>  Log-Likelihood:    </th> <td> -125.44</td>\n",
       "</tr>\n",
       "<tr>\n",
       "  <th>No. Observations:</th>      <td>    26</td>      <th>  AIC:               </th> <td>   254.9</td>\n",
       "</tr>\n",
       "<tr>\n",
       "  <th>Df Residuals:</th>          <td>    24</td>      <th>  BIC:               </th> <td>   257.4</td>\n",
       "</tr>\n",
       "<tr>\n",
       "  <th>Df Model:</th>              <td>     1</td>      <th>                     </th>     <td> </td>   \n",
       "</tr>\n",
       "<tr>\n",
       "  <th>Covariance Type:</th>      <td>nonrobust</td>    <th>                     </th>     <td> </td>   \n",
       "</tr>\n",
       "</table>\n",
       "<table class=\"simpletable\">\n",
       "<tr>\n",
       "      <td></td>         <th>coef</th>     <th>std err</th>      <th>t</th>      <th>P>|t|</th>  <th>[0.025</th>    <th>0.975]</th>  \n",
       "</tr>\n",
       "<tr>\n",
       "  <th>Intercept</th> <td>   35.4627</td> <td>   82.182</td> <td>    0.432</td> <td> 0.670</td> <td> -134.152</td> <td>  205.077</td>\n",
       "</tr>\n",
       "<tr>\n",
       "  <th>x1</th>        <td>    0.3369</td> <td>    0.252</td> <td>    1.337</td> <td> 0.194</td> <td>   -0.183</td> <td>    0.857</td>\n",
       "</tr>\n",
       "</table>\n",
       "<table class=\"simpletable\">\n",
       "<tr>\n",
       "  <th>Omnibus:</th>       <td> 3.042</td> <th>  Durbin-Watson:     </th> <td>   1.841</td>\n",
       "</tr>\n",
       "<tr>\n",
       "  <th>Prob(Omnibus):</th> <td> 0.218</td> <th>  Jarque-Bera (JB):  </th> <td>   2.157</td>\n",
       "</tr>\n",
       "<tr>\n",
       "  <th>Skew:</th>          <td> 0.532</td> <th>  Prob(JB):          </th> <td>   0.340</td>\n",
       "</tr>\n",
       "<tr>\n",
       "  <th>Kurtosis:</th>      <td> 2.072</td> <th>  Cond. No.          </th> <td>4.36e+03</td>\n",
       "</tr>\n",
       "</table><br/><br/>Warnings:<br/>[1] Standard Errors assume that the covariance matrix of the errors is correctly specified.<br/>[2] The condition number is large, 4.36e+03. This might indicate that there are<br/>strong multicollinearity or other numerical problems."
      ],
      "text/plain": [
       "<class 'statsmodels.iolib.summary.Summary'>\n",
       "\"\"\"\n",
       "                            OLS Regression Results                            \n",
       "==============================================================================\n",
       "Dep. Variable:                      y   R-squared:                       0.069\n",
       "Model:                            OLS   Adj. R-squared:                  0.031\n",
       "Method:                 Least Squares   F-statistic:                     1.789\n",
       "Date:                Fri, 29 Jun 2018   Prob (F-statistic):              0.194\n",
       "Time:                        16:40:56   Log-Likelihood:                -125.44\n",
       "No. Observations:                  26   AIC:                             254.9\n",
       "Df Residuals:                      24   BIC:                             257.4\n",
       "Df Model:                           1                                         \n",
       "Covariance Type:            nonrobust                                         \n",
       "==============================================================================\n",
       "                 coef    std err          t      P>|t|      [0.025      0.975]\n",
       "------------------------------------------------------------------------------\n",
       "Intercept     35.4627     82.182      0.432      0.670    -134.152     205.077\n",
       "x1             0.3369      0.252      1.337      0.194      -0.183       0.857\n",
       "==============================================================================\n",
       "Omnibus:                        3.042   Durbin-Watson:                   1.841\n",
       "Prob(Omnibus):                  0.218   Jarque-Bera (JB):                2.157\n",
       "Skew:                           0.532   Prob(JB):                        0.340\n",
       "Kurtosis:                       2.072   Cond. No.                     4.36e+03\n",
       "==============================================================================\n",
       "\n",
       "Warnings:\n",
       "[1] Standard Errors assume that the covariance matrix of the errors is correctly specified.\n",
       "[2] The condition number is large, 4.36e+03. This might indicate that there are\n",
       "strong multicollinearity or other numerical problems.\n",
       "\"\"\""
      ]
     },
     "execution_count": 27,
     "metadata": {},
     "output_type": "execute_result"
    }
   ],
   "source": [
    "z2.fit().summary()"
   ]
  },
  {
   "cell_type": "code",
   "execution_count": 28,
   "metadata": {},
   "outputs": [
    {
     "data": {
      "text/plain": [
       "[<matplotlib.lines.Line2D at 0x1d6c7b9fe48>]"
      ]
     },
     "execution_count": 28,
     "metadata": {},
     "output_type": "execute_result"
    },
    {
     "data": {
      "image/png": "[encoded data removed]",
      "text/plain": [
       "<Figure size 432x288 with 1 Axes>"
      ]
     },
     "metadata": {},
     "output_type": "display_data"
    }
   ],
   "source": [
    "plt.plot([clust1[i][1] for i in range(len(clust1))],[clust1[i][0] for i in range(len(clust1))],'o')\n",
    "plt.plot([clust2[i][1] for i in range(len(clust2))],[clust2[i][0] for i in range(len(clust2))],'o')\n",
    "x = np.arange(100,250)\n",
    "plt.plot(x, 0.2059*x + 295.4931)\n",
    "plt.plot(x, 0.6973*x + 132.7052)\n"
   ]
  },
  {
   "cell_type": "code",
   "execution_count": 29,
   "metadata": {},
   "outputs": [
    {
     "data": {
      "text/plain": [
       "[[185.0, 130.9],\n",
       " [295.2, 129.4],\n",
       " [275.5, 186.0],\n",
       " [364.8, 151.0],\n",
       " [180.0, 125.4],\n",
       " [260.5, 160.5],\n",
       " [319.9, 190.7],\n",
       " [218.2, 96.4],\n",
       " [345.9, 158.1],\n",
       " [354.3, 142.7],\n",
       " [321.9, 183.2],\n",
       " [290.1, 104.9],\n",
       " [356.0, 143.4],\n",
       " [265.5, 183.9],\n",
       " [323.7, 122.1],\n",
       " [194.8, 132.2],\n",
       " [356.1, 208.2],\n",
       " [299.5, 99.3],\n",
       " [343.3, 123.3],\n",
       " [312.9, 128.6],\n",
       " [325.0, 185.0],\n",
       " [311.8, 194.9],\n",
       " [309.1, 117.2],\n",
       " [267.7, 109.0],\n",
       " [262.7, 174.8],\n",
       " [368.7, 114.3],\n",
       " [269.2, 176.0],\n",
       " [306.3, 134.7],\n",
       " [230.0, 163.6],\n",
       " [271.0, 175.3],\n",
       " [245.8, 176.3],\n",
       " [299.2, 186.7],\n",
       " [338.2, 173.4],\n",
       " [358.2, 167.7],\n",
       " [312.8, 136.1],\n",
       " [296.8, 101.7],\n",
       " [337.9, 112.6],\n",
       " [327.8, 136.5],\n",
       " [231.9, 160.9],\n",
       " [284.0, 126.0]]"
      ]
     },
     "execution_count": 29,
     "metadata": {},
     "output_type": "execute_result"
    }
   ],
   "source": [
    "AA"
   ]
  },
  {
   "cell_type": "code",
   "execution_count": null,
   "metadata": {},
   "outputs": [],
   "source": []
  }
 ],
 "metadata": {
  "kernelspec": {
   "display_name": "Python 3",
   "language": "python",
   "name": "python3"
  },
  "language_info": {
   "codemirror_mode": {
    "name": "ipython",
    "version": 3
   },
   "file_extension": ".py",
   "mimetype": "text/x-python",
   "name": "python",
   "nbconvert_exporter": "python",
   "pygments_lexer": "ipython3",
   "version": "3.6.5"
  }
 },
 "nbformat": 4,
 "nbformat_minor": 2
}
